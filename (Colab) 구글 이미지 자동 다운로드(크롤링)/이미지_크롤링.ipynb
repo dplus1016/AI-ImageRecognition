{
  "nbformat": 4,
  "nbformat_minor": 0,
  "metadata": {
    "colab": {
      "name": "이미지 크롤링.ipynb",
      "provenance": []
    },
    "kernelspec": {
      "name": "python3",
      "display_name": "Python 3"
    },
    "language_info": {
      "name": "python"
    }
  },
  "cells": [
    {
      "cell_type": "code",
      "metadata": {
        "id": "byN7PgLsaa7S"
      },
      "source": [
        "!pip install selenium\n",
        "!apt-get update\n",
        "!apt install chromium-chromedriver"
      ],
      "execution_count": null,
      "outputs": []
    },
    {
      "cell_type": "code",
      "metadata": {
        "colab": {
          "base_uri": "https://localhost:8080/"
        },
        "id": "pBdFjf6GarBM",
        "outputId": "a252006a-86a8-46be-8082-5bcfda5578c4"
      },
      "source": [
        "from urllib.request import urlretrieve\n",
        "from urllib.parse import quote_plus\n",
        "from bs4 import BeautifulSoup    # pip install bs4\n",
        "from selenium import webdriver   # pip install selenium\n",
        "import os\n",
        "\n",
        "def createFolder(dir):\n",
        "    try:\n",
        "        if not os.path.exists(dir):\n",
        "            os.makedirs(dir)\n",
        "    except OSError:\n",
        "        print('Error: Creating directory. '+dir)\n",
        "\n",
        "search = input(\"키워드를 입력하시오. \")\n",
        "url = f'https://www.google.co.kr/search?tbm=isch&q={quote_plus(search)}'\n",
        "\n",
        "chrome_options = webdriver.ChromeOptions()\n",
        "chrome_options.add_argument('--headless')\n",
        "chrome_options.add_argument('--no-sandbox')\n",
        "chrome_options.add_argument('--disable-dev-shm-usage')\n",
        "driver = webdriver.Chrome('chromedriver', chrome_options=chrome_options)\n",
        "\n",
        "driver.implicitly_wait(3)\n",
        "driver.get(url)\n",
        "\n",
        "num=2\n",
        "for i in range(num):\n",
        "    driver.execute_script(\"window.scrollBy(0,1000)\")\n",
        "\n",
        "html = driver.page_source\n",
        "soup = BeautifulSoup(html,'html.parser')\n",
        "\n",
        "img = soup.select('.rg_i.Q4LuWd')\n",
        "\n",
        "n=1\n",
        "imgurl = []\n",
        "\n",
        "for i in img:\n",
        "    try:\n",
        "        imgurl.append(i.attrs[\"src\"])\n",
        "    except KeyError:\n",
        "        imgurl.append(i.attrs[\"data-src\"])\n",
        "                      \n",
        "for i in imgurl:\n",
        "    dir=\"/content/drive/MyDrive/AI실습/images/\"+search  # 이미지 다운받을 경로 설정\n",
        "    createFolder(dir)\n",
        "    urlretrieve(i, dir+\"/\"+search+str(n)+\".jpg\")\n",
        "    n+=1\n",
        "\n",
        "driver.close()  "
      ],
      "execution_count": 2,
      "outputs": [
        {
          "name": "stdout",
          "output_type": "stream",
          "text": [
            "키워드를 입력하시오. 시금치\n"
          ]
        },
        {
          "output_type": "stream",
          "name": "stderr",
          "text": [
            "/usr/local/lib/python3.7/dist-packages/ipykernel_launcher.py:21: DeprecationWarning: use options instead of chrome_options\n"
          ]
        }
      ]
    }
  ]
}